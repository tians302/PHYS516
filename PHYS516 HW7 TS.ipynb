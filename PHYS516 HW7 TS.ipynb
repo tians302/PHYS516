{
 "cells": [
  {
   "cell_type": "code",
   "execution_count": 26,
   "id": "e75f397f",
   "metadata": {},
   "outputs": [
    {
     "name": "stdout",
     "output_type": "stream",
     "text": [
      "|1-|<v|lastv>|^2= 0.6714694341755043\n",
      "|1-|<v|lastv>|^2= 0.5440264718376684\n",
      "|1-|<v|lastv>|^2= 0.05247533037055563\n",
      "|1-|<v|lastv>|^2= 0.007338861345312253\n",
      "|1-|<v|lastv>|^2= 0.00018993608174433518\n",
      "|1-|<v|lastv>|^2= 2.3466324089338464e-05\n",
      "|1-|<v|lastv>|^2= 5.89367848080613e-07\n"
     ]
    },
    {
     "data": {
      "text/plain": [
       "(5.999795217091657,\n",
       " [0.5772311991788499, 0.5775867147277697, 0.5772328210215776])"
      ]
     },
     "execution_count": 26,
     "metadata": {},
     "output_type": "execute_result"
    }
   ],
   "source": [
    "import math\n",
    "import random\n",
    "\n",
    "eps = 1e-6\n",
    "\n",
    "# dot product\n",
    "def dot_prod(x,y):\n",
    "    dp = 0\n",
    "    for i in range(len(x)):\n",
    "        dp += (x[i]*y[i])\n",
    "    return dp\n",
    "\n",
    "# vector normalize\n",
    "def normalize(v):\n",
    "    norm = math.sqrt(dot_prod(v,v))\n",
    "    norm_v = [x / norm for x in v]\n",
    "    return norm_v\n",
    "\n",
    "# class slides mathematica to python\n",
    "def power_iteration(A, n):\n",
    "    random.seed(2)  # for reproduce\n",
    "    v = [random.uniform(-1, 1) for i in range(n)]\n",
    "    v = normalize(v)\n",
    "    \n",
    "    while True:\n",
    "        lastv = v\n",
    "        v = [dot_prod(row, lastv) for row in A]  \n",
    "        v = normalize(v)\n",
    "        \n",
    "        closeness = abs(1 - dot_prod(v, lastv)**2)\n",
    "        print(\"|1-|<v|lastv>|^2=\", closeness)\n",
    "        \n",
    "        if closeness < eps:\n",
    "            break\n",
    "    \n",
    "    Av = [dot_prod(row, v) for row in A]\n",
    "    lamda = dot_prod(Av, v)  # eigenvalue\n",
    "    return lamda, v\n",
    "\n",
    "# example with expected dominant lamda = 6, e_vec = [1, 1, 1]\n",
    "A = [[1, 2, 3], [3, 2, 1], [2, 1, 3]]\n",
    "n = len(A)\n",
    "lamda, e_vec = power_iteration(A, n)\n",
    "\n",
    "lamda, e_vec\n"
   ]
  },
  {
   "cell_type": "code",
   "execution_count": 27,
   "id": "726775a0",
   "metadata": {},
   "outputs": [
    {
     "name": "stdout",
     "output_type": "stream",
     "text": [
      "|1-|<v|lastv>|^2= 0.6714694341755043\n",
      "|1-|<v|lastv>|^2= 0.5440264718376684\n",
      "|1-|<v|lastv>|^2= 0.05247533037055563\n",
      "|1-|<v|lastv>|^2= 0.007338861345312253\n",
      "|1-|<v|lastv>|^2= 0.00018993608174433518\n",
      "|1-|<v|lastv>|^2= 2.3466324089338464e-05\n",
      "|1-|<v|lastv>|^2= 5.89367848080613e-07\n",
      "|1-|<v|lastv>|^2= 7.253767386750098e-08\n",
      "|1-|<v|lastv>|^2= 1.8195551731992055e-09\n",
      "|1-|<v|lastv>|^2= 2.2390045373299472e-10\n",
      "|1-|<v|lastv>|^2= 5.615952147763892e-12\n",
      "|1-|<v|lastv>|^2= 6.912248551316225e-13\n",
      "|1-|<v|lastv>|^2= 1.7319479184152442e-14\n",
      "|1-|<v|lastv>|^2= 1.9984014443252818e-15\n",
      "|1-|<v|lastv>|^2= 2.220446049250313e-16\n",
      "|1-|<v|lastv>|^2= 2.220446049250313e-16\n",
      "|1-|<v|lastv>|^2= 0.0\n"
     ]
    },
    {
     "data": {
      "text/plain": [
       "(5.999999999891863,\n",
       " [0.5773502691266215, 0.577350269314776, 0.5773502691274798])"
      ]
     },
     "execution_count": 27,
     "metadata": {},
     "output_type": "execute_result"
    }
   ],
   "source": [
    "import math\n",
    "import random\n",
    "\n",
    "eps = 1e-20 # changed to see difference\n",
    "\n",
    "# dot product\n",
    "def dot_prod(x,y):\n",
    "    dp = 0\n",
    "    for i in range(len(x)):\n",
    "        dp += (x[i]*y[i])\n",
    "    return dp\n",
    "\n",
    "# vector normalize\n",
    "def normalize(v):\n",
    "    norm = math.sqrt(dot_prod(v,v))\n",
    "    norm_v = [x / norm for x in v]\n",
    "    return norm_v\n",
    "\n",
    "# class slides mathematica to python\n",
    "def power_iteration(A, n):\n",
    "    random.seed(2)  # for reproduce\n",
    "    v = [random.uniform(-1, 1) for i in range(n)]\n",
    "    v = normalize(v)\n",
    "    \n",
    "    while True:\n",
    "        lastv = v\n",
    "        v = [dot_prod(row, lastv) for row in A]  \n",
    "        v = normalize(v)\n",
    "        \n",
    "        closeness = abs(1 - dot_prod(v, lastv)**2)\n",
    "        print(\"|1-|<v|lastv>|^2=\", closeness)\n",
    "        \n",
    "        if closeness < eps:\n",
    "            break\n",
    "    \n",
    "    Av = [dot_prod(row, v) for row in A]\n",
    "    lamda = dot_prod(Av, v)  # eigenvalue\n",
    "    return lamda, v\n",
    "\n",
    "# example with expected dominant lamda = 6, e_vec = [1, 1, 1]\n",
    "A = [[1, 2, 3], [3, 2, 1], [2, 1, 3]]\n",
    "n = len(A)\n",
    "lamda, e_vec = power_iteration(A, n)\n",
    "\n",
    "lamda, e_vec"
   ]
  },
  {
   "cell_type": "code",
   "execution_count": 29,
   "id": "effed843",
   "metadata": {},
   "outputs": [
    {
     "name": "stdout",
     "output_type": "stream",
     "text": [
      "|1-|<v|lastv>|^2= 0.6735417193861912\n",
      "|1-|<v|lastv>|^2= 0.048502199241495014\n",
      "|1-|<v|lastv>|^2= 0.003959606663134663\n",
      "|1-|<v|lastv>|^2= 0.00015277784006373363\n",
      "|1-|<v|lastv>|^2= 1.2163385878616317e-05\n",
      "|1-|<v|lastv>|^2= 4.7123330038090216e-07\n"
     ]
    },
    {
     "data": {
      "text/plain": [
       "(6.000078473945204,\n",
       " [-0.5774644814278747, -0.5772250201197783, -0.5773612810337713])"
      ]
     },
     "execution_count": 29,
     "metadata": {},
     "output_type": "execute_result"
    }
   ],
   "source": [
    "import math\n",
    "import random\n",
    "\n",
    "eps = 1e-6\n",
    "\n",
    "# dot product\n",
    "def dot_prod(x,y):\n",
    "    dp = 0\n",
    "    for i in range(len(x)):\n",
    "        dp += (x[i]*y[i])\n",
    "    return dp\n",
    "\n",
    "# vector normalize\n",
    "def normalize(v):\n",
    "    norm = math.sqrt(dot_prod(v,v))\n",
    "    norm_v = [x / norm for x in v]\n",
    "    return norm_v\n",
    "\n",
    "# class slides mathematica to python\n",
    "def power_iteration(A, n):\n",
    "    random.seed(3)  # changed to test initial vector\n",
    "    v = [random.uniform(-1, 1) for i in range(n)]\n",
    "    v = normalize(v)\n",
    "    \n",
    "    while True:\n",
    "        lastv = v\n",
    "        v = [dot_prod(row, lastv) for row in A]  \n",
    "        v = normalize(v)\n",
    "        \n",
    "        closeness = abs(1 - dot_prod(v, lastv)**2)\n",
    "        print(\"|1-|<v|lastv>|^2=\", closeness)\n",
    "        \n",
    "        if closeness < eps:\n",
    "            break\n",
    "    \n",
    "    Av = [dot_prod(row, v) for row in A]\n",
    "    lamda = dot_prod(Av, v)  # eigenvalue\n",
    "    return lamda, v\n",
    "\n",
    "# example with expected dominant lamda = 6, e_vec = [1, 1, 1]\n",
    "A = [[1, 2, 3], [3, 2, 1], [2, 1, 3]]\n",
    "n = len(A) \n",
    "lamda, e_vec = power_iteration(A, n)\n",
    "\n",
    "lamda, e_vec"
   ]
  },
  {
   "cell_type": "markdown",
   "id": "2cb7323b",
   "metadata": {},
   "source": [
    "# First cell has eps=1e-6 needs 7 steps to converge, second has eps=1e-20 needs 17 steps to converge, obviously tolerance determines the number of iteration. \n",
    "\n",
    "# First cell has inital eigenvector with random.seed2, and third cell has random.seed3, they takes 7 and 6 steps to converge separately, so this also slightly affect the speed of convergence.\n",
    "\n",
    "# Definitly, the number of eigenvalues and the difference in eigenvalues also determines the numbers of iteration to converge."
   ]
  },
  {
   "cell_type": "code",
   "execution_count": null,
   "id": "45851fea",
   "metadata": {},
   "outputs": [],
   "source": []
  }
 ],
 "metadata": {
  "kernelspec": {
   "display_name": "Python 3 (ipykernel)",
   "language": "python",
   "name": "python3"
  },
  "language_info": {
   "codemirror_mode": {
    "name": "ipython",
    "version": 3
   },
   "file_extension": ".py",
   "mimetype": "text/x-python",
   "name": "python",
   "nbconvert_exporter": "python",
   "pygments_lexer": "ipython3",
   "version": "3.9.13"
  }
 },
 "nbformat": 4,
 "nbformat_minor": 5
}
