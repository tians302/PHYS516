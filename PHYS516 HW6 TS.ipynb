{
 "cells": [
  {
   "cell_type": "code",
   "execution_count": 40,
   "id": "7fe2ef88",
   "metadata": {},
   "outputs": [
    {
     "name": "stdout",
     "output_type": "stream",
     "text": [
      "Infinite solutions output: 1\n",
      "One solution output and x: (0, [1.0, 1.0, 1.0])\n",
      "No solution output: -1\n"
     ]
    }
   ],
   "source": [
    "def gauss_jordan_elimination(A, b):\n",
    "    n = len(A)\n",
    "    \n",
    "    for i in range(n):\n",
    "        pivot_row = i # find the pivot row\n",
    "        for j in range(i+1, n):\n",
    "            if abs(A[j][i]) > abs(A[pivot_row][i]):\n",
    "                pivot_row = j\n",
    "        if pivot_row != i: # swap pivot row with current row\n",
    "            A[i], A[pivot_row] = A[pivot_row], A[i]\n",
    "            b[i], b[pivot_row] = b[pivot_row], b[i]\n",
    "\n",
    "        for k in range(n):\n",
    "            if k != i and A[i][i] != 0:  # to skip row i\n",
    "                scale = A[k][i] / A[i][i]\n",
    "                for j in range(i, n): # eliminate\n",
    "                    A[k][j] -= scale * A[i][j] \n",
    "                b[k] -= scale * b[i]\n",
    "\n",
    "            if A[i][i] == 0:\n",
    "                if b[i] != 0:\n",
    "                    return -1  # no solution case\n",
    "                else: \n",
    "                    return 1 # inifinite solution case\n",
    "    \n",
    "    # backward subtraction\n",
    "    x = [0 for i in range(n)] # solution x\n",
    "    for i in range(n-1, -1, -1): # from bottom to top\n",
    "        x[i] = round(b[i] / A[i][i], 2) # roundoff x\n",
    "        for j in range(i-1, -1, -1):\n",
    "            b[j] -= A[j][i] * x[i]\n",
    "    return 0, x # one solution case\n",
    "\n",
    "# example cases\n",
    "A_inf = [[1, 1, 2], [2, 2, 4], [2, 2, 4]]\n",
    "b_inf = [1, 2, 2]\n",
    "\n",
    "A_one = [[1, 2, 3], [2, 5, 4], [8, 2, 5]]\n",
    "b_one = [6, 11, 15]\n",
    "\n",
    "A_no = [[1, 1, 1], [2, 2, 2], [6, 3, 9]]\n",
    "b_no = [2, 1, 0]\n",
    "\n",
    "print('Infinite solutions output:', gauss_jordan_elimination(A_inf, b_inf))\n",
    "print('One solution output and x:', gauss_jordan_elimination(A_one, b_one))\n",
    "print('No solution output:', gauss_jordan_elimination(A_no, b_no))"
   ]
  },
  {
   "cell_type": "code",
   "execution_count": null,
   "id": "2aeb622e",
   "metadata": {},
   "outputs": [],
   "source": []
  }
 ],
 "metadata": {
  "kernelspec": {
   "display_name": "Python 3 (ipykernel)",
   "language": "python",
   "name": "python3"
  },
  "language_info": {
   "codemirror_mode": {
    "name": "ipython",
    "version": 3
   },
   "file_extension": ".py",
   "mimetype": "text/x-python",
   "name": "python",
   "nbconvert_exporter": "python",
   "pygments_lexer": "ipython3",
   "version": "3.9.13"
  }
 },
 "nbformat": 4,
 "nbformat_minor": 5
}
